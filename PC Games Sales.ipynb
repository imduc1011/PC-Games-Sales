{
 "cells": [
  {
   "cell_type": "markdown",
   "metadata": {},
   "source": [
    "# Day 5 (6/1/2021)"
   ]
  },
  {
   "cell_type": "markdown",
   "metadata": {},
   "source": [
    "## Phase 0: Preparation"
   ]
  },
  {
   "cell_type": "code",
   "execution_count": 1,
   "metadata": {},
   "outputs": [],
   "source": [
    "# import library\n",
    "\n",
    "import pandas as pd\n",
    "import numpy as np\n",
    "import matplotlib.pyplot as plt\n",
    "import seaborn as sb\n",
    "import datetime as dict"
   ]
  },
  {
   "cell_type": "code",
   "execution_count": 2,
   "metadata": {},
   "outputs": [
    {
     "data": {
      "text/html": [
       "<div>\n",
       "<style scoped>\n",
       "    .dataframe tbody tr th:only-of-type {\n",
       "        vertical-align: middle;\n",
       "    }\n",
       "\n",
       "    .dataframe tbody tr th {\n",
       "        vertical-align: top;\n",
       "    }\n",
       "\n",
       "    .dataframe thead th {\n",
       "        text-align: right;\n",
       "    }\n",
       "</style>\n",
       "<table border=\"1\" class=\"dataframe\">\n",
       "  <thead>\n",
       "    <tr style=\"text-align: right;\">\n",
       "      <th></th>\n",
       "      <th>Name</th>\n",
       "      <th>Sales</th>\n",
       "      <th>Series</th>\n",
       "      <th>Release</th>\n",
       "      <th>Genre</th>\n",
       "      <th>Developer</th>\n",
       "      <th>Publisher</th>\n",
       "    </tr>\n",
       "  </thead>\n",
       "  <tbody>\n",
       "    <tr>\n",
       "      <th>0</th>\n",
       "      <td>PlayerUnknown's Battlegrounds</td>\n",
       "      <td>42.0</td>\n",
       "      <td>NaN</td>\n",
       "      <td>Dec-17</td>\n",
       "      <td>Battle royale</td>\n",
       "      <td>PUBG Studios</td>\n",
       "      <td>Krafton</td>\n",
       "    </tr>\n",
       "    <tr>\n",
       "      <th>1</th>\n",
       "      <td>Minecraft</td>\n",
       "      <td>33.0</td>\n",
       "      <td>Minecraft</td>\n",
       "      <td>Nov-11</td>\n",
       "      <td>Sandbox, survival</td>\n",
       "      <td>Mojang Studios</td>\n",
       "      <td>Mojang Studios</td>\n",
       "    </tr>\n",
       "    <tr>\n",
       "      <th>2</th>\n",
       "      <td>Diablo III</td>\n",
       "      <td>20.0</td>\n",
       "      <td>Diablo</td>\n",
       "      <td>May-12</td>\n",
       "      <td>Action role-playing</td>\n",
       "      <td>Blizzard Entertainment</td>\n",
       "      <td>Blizzard Entertainment</td>\n",
       "    </tr>\n",
       "    <tr>\n",
       "      <th>3</th>\n",
       "      <td>Garry's Mod</td>\n",
       "      <td>20.0</td>\n",
       "      <td>NaN</td>\n",
       "      <td>Nov-06</td>\n",
       "      <td>Sandbox</td>\n",
       "      <td>Facepunch Studios</td>\n",
       "      <td>Valve</td>\n",
       "    </tr>\n",
       "    <tr>\n",
       "      <th>4</th>\n",
       "      <td>Terraria</td>\n",
       "      <td>17.2</td>\n",
       "      <td>NaN</td>\n",
       "      <td>May-11</td>\n",
       "      <td>Action-adventure</td>\n",
       "      <td>Re-Logic</td>\n",
       "      <td>Re-Logic</td>\n",
       "    </tr>\n",
       "    <tr>\n",
       "      <th>...</th>\n",
       "      <td>...</td>\n",
       "      <td>...</td>\n",
       "      <td>...</td>\n",
       "      <td>...</td>\n",
       "      <td>...</td>\n",
       "      <td>...</td>\n",
       "      <td>...</td>\n",
       "    </tr>\n",
       "    <tr>\n",
       "      <th>170</th>\n",
       "      <td>Vietcong</td>\n",
       "      <td>1.0</td>\n",
       "      <td>Vietcong</td>\n",
       "      <td>Mar-03</td>\n",
       "      <td>Tactical shooter</td>\n",
       "      <td>Pterodon</td>\n",
       "      <td>Gathering of Developers</td>\n",
       "    </tr>\n",
       "    <tr>\n",
       "      <th>171</th>\n",
       "      <td>Warhammer Online: Age of Reckoning</td>\n",
       "      <td>1.0</td>\n",
       "      <td>Warhammer</td>\n",
       "      <td>Sep-08</td>\n",
       "      <td>MMORPG</td>\n",
       "      <td>Mythic Entertainment</td>\n",
       "      <td>Electronic Arts</td>\n",
       "    </tr>\n",
       "    <tr>\n",
       "      <th>172</th>\n",
       "      <td>Who Wants to Be a Millionaire?</td>\n",
       "      <td>1.0</td>\n",
       "      <td>NaN</td>\n",
       "      <td>Nov-99</td>\n",
       "      <td>Trivia game</td>\n",
       "      <td>Jellyvision</td>\n",
       "      <td>Disney Interactive Studios</td>\n",
       "    </tr>\n",
       "    <tr>\n",
       "      <th>173</th>\n",
       "      <td>Wing Commander 3: Heart of the Tiger</td>\n",
       "      <td>1.0</td>\n",
       "      <td>Wing Commander</td>\n",
       "      <td>Dec-94</td>\n",
       "      <td>Space combat simulation</td>\n",
       "      <td>Origin Systems</td>\n",
       "      <td>Electronic Arts</td>\n",
       "    </tr>\n",
       "    <tr>\n",
       "      <th>174</th>\n",
       "      <td>Zoo Tycoon</td>\n",
       "      <td>1.0</td>\n",
       "      <td>Zoo Tycoon</td>\n",
       "      <td>Oct-01</td>\n",
       "      <td>Business simulation</td>\n",
       "      <td>Microsoft</td>\n",
       "      <td>Blue Fang Games</td>\n",
       "    </tr>\n",
       "  </tbody>\n",
       "</table>\n",
       "<p>175 rows × 7 columns</p>\n",
       "</div>"
      ],
      "text/plain": [
       "                                     Name  Sales          Series Release  \\\n",
       "0           PlayerUnknown's Battlegrounds   42.0             NaN  Dec-17   \n",
       "1                               Minecraft   33.0       Minecraft  Nov-11   \n",
       "2                              Diablo III   20.0          Diablo  May-12   \n",
       "3                             Garry's Mod   20.0             NaN  Nov-06   \n",
       "4                                Terraria   17.2             NaN  May-11   \n",
       "..                                    ...    ...             ...     ...   \n",
       "170                              Vietcong    1.0        Vietcong  Mar-03   \n",
       "171    Warhammer Online: Age of Reckoning    1.0       Warhammer  Sep-08   \n",
       "172        Who Wants to Be a Millionaire?    1.0             NaN  Nov-99   \n",
       "173  Wing Commander 3: Heart of the Tiger    1.0  Wing Commander  Dec-94   \n",
       "174                            Zoo Tycoon    1.0      Zoo Tycoon  Oct-01   \n",
       "\n",
       "                       Genre               Developer  \\\n",
       "0              Battle royale            PUBG Studios   \n",
       "1          Sandbox, survival          Mojang Studios   \n",
       "2        Action role-playing  Blizzard Entertainment   \n",
       "3                    Sandbox       Facepunch Studios   \n",
       "4           Action-adventure                Re-Logic   \n",
       "..                       ...                     ...   \n",
       "170         Tactical shooter                Pterodon   \n",
       "171                   MMORPG    Mythic Entertainment   \n",
       "172              Trivia game             Jellyvision   \n",
       "173  Space combat simulation          Origin Systems   \n",
       "174      Business simulation               Microsoft   \n",
       "\n",
       "                      Publisher  \n",
       "0                       Krafton  \n",
       "1                Mojang Studios  \n",
       "2        Blizzard Entertainment  \n",
       "3                         Valve  \n",
       "4                      Re-Logic  \n",
       "..                          ...  \n",
       "170     Gathering of Developers  \n",
       "171             Electronic Arts  \n",
       "172  Disney Interactive Studios  \n",
       "173             Electronic Arts  \n",
       "174             Blue Fang Games  \n",
       "\n",
       "[175 rows x 7 columns]"
      ]
     },
     "execution_count": 2,
     "metadata": {},
     "output_type": "execute_result"
    }
   ],
   "source": [
    "# import dataset\n",
    "\n",
    "pc = pd.read_csv(\"E:/Python/PC Games Sales/Games.csv\")\n",
    "pc"
   ]
  },
  {
   "cell_type": "code",
   "execution_count": 3,
   "metadata": {},
   "outputs": [
    {
     "name": "stdout",
     "output_type": "stream",
     "text": [
      "<class 'pandas.core.frame.DataFrame'>\n",
      "RangeIndex: 175 entries, 0 to 174\n",
      "Data columns (total 7 columns):\n",
      " #   Column     Non-Null Count  Dtype  \n",
      "---  ------     --------------  -----  \n",
      " 0   Name       175 non-null    object \n",
      " 1   Sales      175 non-null    float64\n",
      " 2   Series     139 non-null    object \n",
      " 3   Release    175 non-null    object \n",
      " 4   Genre      175 non-null    object \n",
      " 5   Developer  175 non-null    object \n",
      " 6   Publisher  175 non-null    object \n",
      "dtypes: float64(1), object(6)\n",
      "memory usage: 9.7+ KB\n"
     ]
    }
   ],
   "source": [
    "# Info\n",
    "\n",
    "pc.info()"
   ]
  },
  {
   "cell_type": "markdown",
   "metadata": {},
   "source": [
    "## Phase 1: Clean Data"
   ]
  },
  {
   "cell_type": "code",
   "execution_count": 4,
   "metadata": {},
   "outputs": [
    {
     "data": {
      "text/plain": [
       "Name          0\n",
       "Sales         0\n",
       "Series       36\n",
       "Release       0\n",
       "Genre         0\n",
       "Developer     0\n",
       "Publisher     0\n",
       "dtype: int64"
      ]
     },
     "execution_count": 4,
     "metadata": {},
     "output_type": "execute_result"
    }
   ],
   "source": [
    "# Check Null\n",
    "\n",
    "pc.isnull().sum()"
   ]
  },
  {
   "cell_type": "code",
   "execution_count": 5,
   "metadata": {},
   "outputs": [],
   "source": [
    "# Replace Nul\n",
    "\n",
    "pc[\"Series\"] = pc[\"Series\"].fillna(\"Unprovided\")"
   ]
  },
  {
   "cell_type": "code",
   "execution_count": 6,
   "metadata": {},
   "outputs": [
    {
     "data": {
      "text/html": [
       "<div>\n",
       "<style scoped>\n",
       "    .dataframe tbody tr th:only-of-type {\n",
       "        vertical-align: middle;\n",
       "    }\n",
       "\n",
       "    .dataframe tbody tr th {\n",
       "        vertical-align: top;\n",
       "    }\n",
       "\n",
       "    .dataframe thead th {\n",
       "        text-align: right;\n",
       "    }\n",
       "</style>\n",
       "<table border=\"1\" class=\"dataframe\">\n",
       "  <thead>\n",
       "    <tr style=\"text-align: right;\">\n",
       "      <th></th>\n",
       "      <th>Name</th>\n",
       "      <th>Sales</th>\n",
       "      <th>Series</th>\n",
       "      <th>Release</th>\n",
       "      <th>Genre</th>\n",
       "      <th>Developer</th>\n",
       "      <th>Publisher</th>\n",
       "    </tr>\n",
       "  </thead>\n",
       "  <tbody>\n",
       "    <tr>\n",
       "      <th>0</th>\n",
       "      <td>PlayerUnknown's Battlegrounds</td>\n",
       "      <td>42.0</td>\n",
       "      <td>Unprovided</td>\n",
       "      <td>Dec-17</td>\n",
       "      <td>Battle royale</td>\n",
       "      <td>PUBG Studios</td>\n",
       "      <td>Krafton</td>\n",
       "    </tr>\n",
       "    <tr>\n",
       "      <th>1</th>\n",
       "      <td>Minecraft</td>\n",
       "      <td>33.0</td>\n",
       "      <td>Minecraft</td>\n",
       "      <td>Nov-11</td>\n",
       "      <td>Sandbox, survival</td>\n",
       "      <td>Mojang Studios</td>\n",
       "      <td>Mojang Studios</td>\n",
       "    </tr>\n",
       "    <tr>\n",
       "      <th>2</th>\n",
       "      <td>Diablo III</td>\n",
       "      <td>20.0</td>\n",
       "      <td>Diablo</td>\n",
       "      <td>May-12</td>\n",
       "      <td>Action role-playing</td>\n",
       "      <td>Blizzard Entertainment</td>\n",
       "      <td>Blizzard Entertainment</td>\n",
       "    </tr>\n",
       "    <tr>\n",
       "      <th>3</th>\n",
       "      <td>Garry's Mod</td>\n",
       "      <td>20.0</td>\n",
       "      <td>Unprovided</td>\n",
       "      <td>Nov-06</td>\n",
       "      <td>Sandbox</td>\n",
       "      <td>Facepunch Studios</td>\n",
       "      <td>Valve</td>\n",
       "    </tr>\n",
       "    <tr>\n",
       "      <th>4</th>\n",
       "      <td>Terraria</td>\n",
       "      <td>17.2</td>\n",
       "      <td>Unprovided</td>\n",
       "      <td>May-11</td>\n",
       "      <td>Action-adventure</td>\n",
       "      <td>Re-Logic</td>\n",
       "      <td>Re-Logic</td>\n",
       "    </tr>\n",
       "  </tbody>\n",
       "</table>\n",
       "</div>"
      ],
      "text/plain": [
       "                            Name  Sales      Series Release  \\\n",
       "0  PlayerUnknown's Battlegrounds   42.0  Unprovided  Dec-17   \n",
       "1                      Minecraft   33.0   Minecraft  Nov-11   \n",
       "2                     Diablo III   20.0      Diablo  May-12   \n",
       "3                    Garry's Mod   20.0  Unprovided  Nov-06   \n",
       "4                       Terraria   17.2  Unprovided  May-11   \n",
       "\n",
       "                 Genre               Developer               Publisher  \n",
       "0        Battle royale            PUBG Studios                 Krafton  \n",
       "1    Sandbox, survival          Mojang Studios          Mojang Studios  \n",
       "2  Action role-playing  Blizzard Entertainment  Blizzard Entertainment  \n",
       "3              Sandbox       Facepunch Studios                   Valve  \n",
       "4     Action-adventure                Re-Logic                Re-Logic  "
      ]
     },
     "execution_count": 6,
     "metadata": {},
     "output_type": "execute_result"
    }
   ],
   "source": [
    "pc.head(5)"
   ]
  },
  {
   "cell_type": "code",
   "execution_count": 7,
   "metadata": {},
   "outputs": [
    {
     "data": {
      "text/plain": [
       "0            NaT\n",
       "1            NaT\n",
       "2            NaT\n",
       "3            NaT\n",
       "4            NaT\n",
       "         ...    \n",
       "170          NaT\n",
       "171          NaT\n",
       "172   1999-11-01\n",
       "173   1994-12-01\n",
       "174          NaT\n",
       "Name: Release, Length: 175, dtype: datetime64[ns]"
      ]
     },
     "execution_count": 7,
     "metadata": {},
     "output_type": "execute_result"
    }
   ],
   "source": [
    "# Change Release data type\n",
    "\n",
    "pd.to_datetime(pc[\"Release\"], errors= \"coerce\")"
   ]
  },
  {
   "cell_type": "code",
   "execution_count": 24,
   "metadata": {},
   "outputs": [
    {
     "data": {
      "text/html": [
       "<div>\n",
       "<style scoped>\n",
       "    .dataframe tbody tr th:only-of-type {\n",
       "        vertical-align: middle;\n",
       "    }\n",
       "\n",
       "    .dataframe tbody tr th {\n",
       "        vertical-align: top;\n",
       "    }\n",
       "\n",
       "    .dataframe thead th {\n",
       "        text-align: right;\n",
       "    }\n",
       "</style>\n",
       "<table border=\"1\" class=\"dataframe\">\n",
       "  <thead>\n",
       "    <tr style=\"text-align: right;\">\n",
       "      <th></th>\n",
       "      <th>Name</th>\n",
       "      <th>Sales</th>\n",
       "      <th>Series</th>\n",
       "      <th>Release</th>\n",
       "      <th>Genre</th>\n",
       "      <th>Developer</th>\n",
       "      <th>Publisher</th>\n",
       "    </tr>\n",
       "  </thead>\n",
       "  <tbody>\n",
       "    <tr>\n",
       "      <th>0</th>\n",
       "      <td>PlayerUnknown's Battlegrounds</td>\n",
       "      <td>42.0</td>\n",
       "      <td>Unprovided</td>\n",
       "      <td>Dec-17</td>\n",
       "      <td>Battle royale</td>\n",
       "      <td>PUBG Studios</td>\n",
       "      <td>Krafton</td>\n",
       "    </tr>\n",
       "    <tr>\n",
       "      <th>1</th>\n",
       "      <td>Minecraft</td>\n",
       "      <td>33.0</td>\n",
       "      <td>Minecraft</td>\n",
       "      <td>Nov-11</td>\n",
       "      <td>Sandbox, survival</td>\n",
       "      <td>Mojang Studios</td>\n",
       "      <td>Mojang Studios</td>\n",
       "    </tr>\n",
       "    <tr>\n",
       "      <th>2</th>\n",
       "      <td>Diablo III</td>\n",
       "      <td>20.0</td>\n",
       "      <td>Diablo</td>\n",
       "      <td>May-12</td>\n",
       "      <td>Action role-playing</td>\n",
       "      <td>Blizzard Entertainment</td>\n",
       "      <td>Blizzard Entertainment</td>\n",
       "    </tr>\n",
       "    <tr>\n",
       "      <th>3</th>\n",
       "      <td>Garry's Mod</td>\n",
       "      <td>20.0</td>\n",
       "      <td>Unprovided</td>\n",
       "      <td>Nov-06</td>\n",
       "      <td>Sandbox</td>\n",
       "      <td>Facepunch Studios</td>\n",
       "      <td>Valve</td>\n",
       "    </tr>\n",
       "    <tr>\n",
       "      <th>4</th>\n",
       "      <td>Terraria</td>\n",
       "      <td>17.2</td>\n",
       "      <td>Unprovided</td>\n",
       "      <td>May-11</td>\n",
       "      <td>Action-adventure</td>\n",
       "      <td>Re-Logic</td>\n",
       "      <td>Re-Logic</td>\n",
       "    </tr>\n",
       "  </tbody>\n",
       "</table>\n",
       "</div>"
      ],
      "text/plain": [
       "                            Name  Sales      Series Release  \\\n",
       "0  PlayerUnknown's Battlegrounds   42.0  Unprovided  Dec-17   \n",
       "1                      Minecraft   33.0   Minecraft  Nov-11   \n",
       "2                     Diablo III   20.0      Diablo  May-12   \n",
       "3                    Garry's Mod   20.0  Unprovided  Nov-06   \n",
       "4                       Terraria   17.2  Unprovided  May-11   \n",
       "\n",
       "                 Genre               Developer               Publisher  \n",
       "0        Battle royale            PUBG Studios                 Krafton  \n",
       "1    Sandbox, survival          Mojang Studios          Mojang Studios  \n",
       "2  Action role-playing  Blizzard Entertainment  Blizzard Entertainment  \n",
       "3              Sandbox       Facepunch Studios                   Valve  \n",
       "4     Action-adventure                Re-Logic                Re-Logic  "
      ]
     },
     "execution_count": 24,
     "metadata": {},
     "output_type": "execute_result"
    }
   ],
   "source": [
    "pc.head(5)"
   ]
  },
  {
   "cell_type": "markdown",
   "metadata": {},
   "source": [
    "### 1. How many different Genres ?"
   ]
  },
  {
   "cell_type": "code",
   "execution_count": 9,
   "metadata": {},
   "outputs": [
    {
     "data": {
      "text/plain": [
       "61"
      ]
     },
     "execution_count": 9,
     "metadata": {},
     "output_type": "execute_result"
    }
   ],
   "source": [
    "# Genre count\n",
    "\n",
    "pd.value_counts(pc[\"Genre\"].unique()).sum()"
   ]
  },
  {
   "cell_type": "markdown",
   "metadata": {},
   "source": [
    "=> 61 Genres"
   ]
  },
  {
   "cell_type": "markdown",
   "metadata": {},
   "source": [
    "### 2. How many different Developers ?"
   ]
  },
  {
   "cell_type": "code",
   "execution_count": 10,
   "metadata": {},
   "outputs": [
    {
     "data": {
      "text/plain": [
       "109"
      ]
     },
     "execution_count": 10,
     "metadata": {},
     "output_type": "execute_result"
    }
   ],
   "source": [
    "# Developer Count\n",
    "\n",
    "pd.value_counts(pc[\"Developer\"].unique()).sum()"
   ]
  },
  {
   "cell_type": "markdown",
   "metadata": {},
   "source": [
    "109 Developers"
   ]
  },
  {
   "cell_type": "markdown",
   "metadata": {},
   "source": [
    "### 3. How many different Publishers ?"
   ]
  },
  {
   "cell_type": "code",
   "execution_count": 11,
   "metadata": {},
   "outputs": [
    {
     "data": {
      "text/plain": [
       "96"
      ]
     },
     "execution_count": 11,
     "metadata": {},
     "output_type": "execute_result"
    }
   ],
   "source": [
    "# Publisher Count\n",
    "\n",
    "pd.value_counts(pc[\"Publisher\"].unique()).sum()"
   ]
  },
  {
   "cell_type": "markdown",
   "metadata": {},
   "source": [
    "=> 96 Publishers"
   ]
  },
  {
   "cell_type": "markdown",
   "metadata": {},
   "source": [
    "### 4. Which Genre is used most ?"
   ]
  },
  {
   "cell_type": "code",
   "execution_count": 29,
   "metadata": {},
   "outputs": [],
   "source": [
    "# Most Genre\n",
    "\n",
    "most_genre = pc.groupby(by = \"Genre\")\n",
    "most_genre = most_genre[\"Sales\"].describe().sort_values(by = \"count\",ascending = False).head(5)"
   ]
  },
  {
   "cell_type": "code",
   "execution_count": 36,
   "metadata": {},
   "outputs": [
    {
     "data": {
      "text/html": [
       "<div>\n",
       "<style scoped>\n",
       "    .dataframe tbody tr th:only-of-type {\n",
       "        vertical-align: middle;\n",
       "    }\n",
       "\n",
       "    .dataframe tbody tr th {\n",
       "        vertical-align: top;\n",
       "    }\n",
       "\n",
       "    .dataframe thead th {\n",
       "        text-align: right;\n",
       "    }\n",
       "</style>\n",
       "<table border=\"1\" class=\"dataframe\">\n",
       "  <thead>\n",
       "    <tr style=\"text-align: right;\">\n",
       "      <th></th>\n",
       "      <th>Genre</th>\n",
       "      <th>count</th>\n",
       "      <th>mean</th>\n",
       "      <th>std</th>\n",
       "      <th>min</th>\n",
       "      <th>25%</th>\n",
       "      <th>50%</th>\n",
       "      <th>75%</th>\n",
       "      <th>max</th>\n",
       "    </tr>\n",
       "  </thead>\n",
       "  <tbody>\n",
       "    <tr>\n",
       "      <th>0</th>\n",
       "      <td>Real-time strategy</td>\n",
       "      <td>24.0</td>\n",
       "      <td>2.291667</td>\n",
       "      <td>2.235663</td>\n",
       "      <td>1.0</td>\n",
       "      <td>1.0</td>\n",
       "      <td>1.5</td>\n",
       "      <td>3.000</td>\n",
       "      <td>11.0</td>\n",
       "    </tr>\n",
       "    <tr>\n",
       "      <th>1</th>\n",
       "      <td>First-person shooter</td>\n",
       "      <td>19.0</td>\n",
       "      <td>2.421053</td>\n",
       "      <td>2.949874</td>\n",
       "      <td>1.0</td>\n",
       "      <td>1.0</td>\n",
       "      <td>1.0</td>\n",
       "      <td>2.000</td>\n",
       "      <td>12.0</td>\n",
       "    </tr>\n",
       "    <tr>\n",
       "      <th>2</th>\n",
       "      <td>Action role-playing</td>\n",
       "      <td>12.0</td>\n",
       "      <td>4.841667</td>\n",
       "      <td>5.592927</td>\n",
       "      <td>1.0</td>\n",
       "      <td>2.0</td>\n",
       "      <td>3.0</td>\n",
       "      <td>4.125</td>\n",
       "      <td>20.0</td>\n",
       "    </tr>\n",
       "    <tr>\n",
       "      <th>3</th>\n",
       "      <td>Construction and management simulation</td>\n",
       "      <td>9.0</td>\n",
       "      <td>2.866667</td>\n",
       "      <td>2.871846</td>\n",
       "      <td>1.0</td>\n",
       "      <td>1.0</td>\n",
       "      <td>2.0</td>\n",
       "      <td>3.000</td>\n",
       "      <td>10.0</td>\n",
       "    </tr>\n",
       "    <tr>\n",
       "      <th>4</th>\n",
       "      <td>Role-playing game</td>\n",
       "      <td>8.0</td>\n",
       "      <td>1.387500</td>\n",
       "      <td>0.535690</td>\n",
       "      <td>1.0</td>\n",
       "      <td>1.0</td>\n",
       "      <td>1.0</td>\n",
       "      <td>2.000</td>\n",
       "      <td>2.1</td>\n",
       "    </tr>\n",
       "  </tbody>\n",
       "</table>\n",
       "</div>"
      ],
      "text/plain": [
       "                                    Genre  count      mean       std  min  \\\n",
       "0                      Real-time strategy   24.0  2.291667  2.235663  1.0   \n",
       "1                    First-person shooter   19.0  2.421053  2.949874  1.0   \n",
       "2                     Action role-playing   12.0  4.841667  5.592927  1.0   \n",
       "3  Construction and management simulation    9.0  2.866667  2.871846  1.0   \n",
       "4                       Role-playing game    8.0  1.387500  0.535690  1.0   \n",
       "\n",
       "   25%  50%    75%   max  \n",
       "0  1.0  1.5  3.000  11.0  \n",
       "1  1.0  1.0  2.000  12.0  \n",
       "2  2.0  3.0  4.125  20.0  \n",
       "3  1.0  2.0  3.000  10.0  \n",
       "4  1.0  1.0  2.000   2.1  "
      ]
     },
     "execution_count": 36,
     "metadata": {},
     "output_type": "execute_result"
    }
   ],
   "source": [
    "most_genre = pd.DataFrame(data = most_genre).reset_index()\n",
    "most_genre"
   ]
  },
  {
   "cell_type": "code",
   "execution_count": 78,
   "metadata": {},
   "outputs": [
    {
     "data": {
      "image/png": "[encoded data removed]",
      "text/plain": [
       "<Figure size 432x288 with 1 Axes>"
      ]
     },
     "metadata": {
      "needs_background": "light"
     },
     "output_type": "display_data"
    }
   ],
   "source": [
    "sb.barplot(x = \"Genre\", y = \"count\", data = most_genre)\n",
    "plt.xticks(rotation = 45)\n",
    "plt.show()"
   ]
  },
  {
   "cell_type": "markdown",
   "metadata": {},
   "source": [
    "### 5. Which Developer appeared most ?"
   ]
  },
  {
   "cell_type": "code",
   "execution_count": 91,
   "metadata": {},
   "outputs": [],
   "source": [
    "most_developer = pc.groupby(by = \"Developer\",as_index= True)\n",
    "most_developer = most_developer[\"Sales\"].describe().sort_values(by = \"count\", ascending = False).head(5)"
   ]
  },
  {
   "cell_type": "code",
   "execution_count": 119,
   "metadata": {},
   "outputs": [
    {
     "data": {
      "text/html": [
       "<div>\n",
       "<style scoped>\n",
       "    .dataframe tbody tr th:only-of-type {\n",
       "        vertical-align: middle;\n",
       "    }\n",
       "\n",
       "    .dataframe tbody tr th {\n",
       "        vertical-align: top;\n",
       "    }\n",
       "\n",
       "    .dataframe thead th {\n",
       "        text-align: right;\n",
       "    }\n",
       "</style>\n",
       "<table border=\"1\" class=\"dataframe\">\n",
       "  <thead>\n",
       "    <tr style=\"text-align: right;\">\n",
       "      <th></th>\n",
       "      <th>count</th>\n",
       "    </tr>\n",
       "    <tr>\n",
       "      <th>Developer</th>\n",
       "      <th></th>\n",
       "    </tr>\n",
       "  </thead>\n",
       "  <tbody>\n",
       "    <tr>\n",
       "      <th>Blizzard Entertainment</th>\n",
       "      <td>8.0</td>\n",
       "    </tr>\n",
       "    <tr>\n",
       "      <th>Maxis</th>\n",
       "      <td>6.0</td>\n",
       "    </tr>\n",
       "    <tr>\n",
       "      <th>Paradox Development Studio</th>\n",
       "      <td>5.0</td>\n",
       "    </tr>\n",
       "    <tr>\n",
       "      <th>id Software</th>\n",
       "      <td>4.0</td>\n",
       "    </tr>\n",
       "    <tr>\n",
       "      <th>Westwood Studios</th>\n",
       "      <td>4.0</td>\n",
       "    </tr>\n",
       "  </tbody>\n",
       "</table>\n",
       "</div>"
      ],
      "text/plain": [
       "                            count\n",
       "Developer                        \n",
       "Blizzard Entertainment        8.0\n",
       "Maxis                         6.0\n",
       "Paradox Development Studio    5.0\n",
       "id Software                   4.0\n",
       "Westwood Studios              4.0"
      ]
     },
     "execution_count": 119,
     "metadata": {},
     "output_type": "execute_result"
    }
   ],
   "source": [
    "most_developer = pd.DataFrame(data = most_developer, columns=[\"count\"])\n",
    "most_developer"
   ]
  },
  {
   "cell_type": "code",
   "execution_count": 100,
   "metadata": {},
   "outputs": [
    {
     "data": {
      "image/png": "[encoded data removed]",
      "text/plain": [
       "<Figure size 432x288 with 1 Axes>"
      ]
     },
     "metadata": {
      "needs_background": "light"
     },
     "output_type": "display_data"
    }
   ],
   "source": [
    "most_developer.plot(kind = \"bar\")\n",
    "plt.xticks(rotation = 45)\n",
    "plt.show()\n"
   ]
  },
  {
   "cell_type": "markdown",
   "metadata": {},
   "source": [
    "### 6. Which Publisher appeared most ?"
   ]
  },
  {
   "cell_type": "code",
   "execution_count": 126,
   "metadata": {},
   "outputs": [
    {
     "data": {
      "text/html": [
       "<div>\n",
       "<style scoped>\n",
       "    .dataframe tbody tr th:only-of-type {\n",
       "        vertical-align: middle;\n",
       "    }\n",
       "\n",
       "    .dataframe tbody tr th {\n",
       "        vertical-align: top;\n",
       "    }\n",
       "\n",
       "    .dataframe thead th {\n",
       "        text-align: right;\n",
       "    }\n",
       "</style>\n",
       "<table border=\"1\" class=\"dataframe\">\n",
       "  <thead>\n",
       "    <tr style=\"text-align: right;\">\n",
       "      <th></th>\n",
       "      <th>count</th>\n",
       "      <th>mean</th>\n",
       "      <th>std</th>\n",
       "      <th>min</th>\n",
       "      <th>25%</th>\n",
       "      <th>50%</th>\n",
       "      <th>75%</th>\n",
       "      <th>max</th>\n",
       "    </tr>\n",
       "    <tr>\n",
       "      <th>Publisher</th>\n",
       "      <th></th>\n",
       "      <th></th>\n",
       "      <th></th>\n",
       "      <th></th>\n",
       "      <th></th>\n",
       "      <th></th>\n",
       "      <th></th>\n",
       "      <th></th>\n",
       "    </tr>\n",
       "  </thead>\n",
       "  <tbody>\n",
       "    <tr>\n",
       "      <th>Electronic Arts</th>\n",
       "      <td>19.0</td>\n",
       "      <td>2.842105</td>\n",
       "      <td>2.713406</td>\n",
       "      <td>1.0</td>\n",
       "      <td>1.00</td>\n",
       "      <td>2.0</td>\n",
       "      <td>3.50</td>\n",
       "      <td>11.0</td>\n",
       "    </tr>\n",
       "    <tr>\n",
       "      <th>Blizzard Entertainment</th>\n",
       "      <td>8.0</td>\n",
       "      <td>7.375000</td>\n",
       "      <td>6.968039</td>\n",
       "      <td>1.0</td>\n",
       "      <td>1.75</td>\n",
       "      <td>5.0</td>\n",
       "      <td>11.75</td>\n",
       "      <td>20.0</td>\n",
       "    </tr>\n",
       "    <tr>\n",
       "      <th>Paradox Interactive</th>\n",
       "      <td>7.0</td>\n",
       "      <td>1.785714</td>\n",
       "      <td>1.467911</td>\n",
       "      <td>1.0</td>\n",
       "      <td>1.00</td>\n",
       "      <td>1.0</td>\n",
       "      <td>1.75</td>\n",
       "      <td>5.0</td>\n",
       "    </tr>\n",
       "    <tr>\n",
       "      <th>Activision</th>\n",
       "      <td>6.0</td>\n",
       "      <td>2.250000</td>\n",
       "      <td>1.993740</td>\n",
       "      <td>1.0</td>\n",
       "      <td>1.00</td>\n",
       "      <td>1.0</td>\n",
       "      <td>3.25</td>\n",
       "      <td>5.5</td>\n",
       "    </tr>\n",
       "    <tr>\n",
       "      <th>GT Interactive</th>\n",
       "      <td>5.0</td>\n",
       "      <td>1.200000</td>\n",
       "      <td>0.447214</td>\n",
       "      <td>1.0</td>\n",
       "      <td>1.00</td>\n",
       "      <td>1.0</td>\n",
       "      <td>1.00</td>\n",
       "      <td>2.0</td>\n",
       "    </tr>\n",
       "  </tbody>\n",
       "</table>\n",
       "</div>"
      ],
      "text/plain": [
       "                        count      mean       std  min   25%  50%    75%   max\n",
       "Publisher                                                                     \n",
       "Electronic Arts          19.0  2.842105  2.713406  1.0  1.00  2.0   3.50  11.0\n",
       "Blizzard Entertainment    8.0  7.375000  6.968039  1.0  1.75  5.0  11.75  20.0\n",
       "Paradox Interactive       7.0  1.785714  1.467911  1.0  1.00  1.0   1.75   5.0\n",
       "Activision                6.0  2.250000  1.993740  1.0  1.00  1.0   3.25   5.5\n",
       "GT Interactive            5.0  1.200000  0.447214  1.0  1.00  1.0   1.00   2.0"
      ]
     },
     "execution_count": 126,
     "metadata": {},
     "output_type": "execute_result"
    }
   ],
   "source": [
    "most_publisher = pc.groupby(by = \"Publisher\")\n",
    "most_publisher = most_publisher[\"Sales\"].describe().sort_values(by = \"count\",ascending= False).head(5)\n",
    "most_publisher"
   ]
  },
  {
   "cell_type": "code",
   "execution_count": 135,
   "metadata": {},
   "outputs": [
    {
     "data": {
      "text/html": [
       "<div>\n",
       "<style scoped>\n",
       "    .dataframe tbody tr th:only-of-type {\n",
       "        vertical-align: middle;\n",
       "    }\n",
       "\n",
       "    .dataframe tbody tr th {\n",
       "        vertical-align: top;\n",
       "    }\n",
       "\n",
       "    .dataframe thead th {\n",
       "        text-align: right;\n",
       "    }\n",
       "</style>\n",
       "<table border=\"1\" class=\"dataframe\">\n",
       "  <thead>\n",
       "    <tr style=\"text-align: right;\">\n",
       "      <th></th>\n",
       "      <th>count</th>\n",
       "    </tr>\n",
       "    <tr>\n",
       "      <th>Publisher</th>\n",
       "      <th></th>\n",
       "    </tr>\n",
       "  </thead>\n",
       "  <tbody>\n",
       "    <tr>\n",
       "      <th>Electronic Arts</th>\n",
       "      <td>19.0</td>\n",
       "    </tr>\n",
       "    <tr>\n",
       "      <th>Blizzard Entertainment</th>\n",
       "      <td>8.0</td>\n",
       "    </tr>\n",
       "    <tr>\n",
       "      <th>Paradox Interactive</th>\n",
       "      <td>7.0</td>\n",
       "    </tr>\n",
       "    <tr>\n",
       "      <th>Activision</th>\n",
       "      <td>6.0</td>\n",
       "    </tr>\n",
       "    <tr>\n",
       "      <th>GT Interactive</th>\n",
       "      <td>5.0</td>\n",
       "    </tr>\n",
       "  </tbody>\n",
       "</table>\n",
       "</div>"
      ],
      "text/plain": [
       "                        count\n",
       "Publisher                    \n",
       "Electronic Arts          19.0\n",
       "Blizzard Entertainment    8.0\n",
       "Paradox Interactive       7.0\n",
       "Activision                6.0\n",
       "GT Interactive            5.0"
      ]
     },
     "execution_count": 135,
     "metadata": {},
     "output_type": "execute_result"
    }
   ],
   "source": [
    "most_publisher = pd.DataFrame(data = most_publisher, columns = [\"count\"])\n",
    "most_publisher"
   ]
  },
  {
   "cell_type": "code",
   "execution_count": 137,
   "metadata": {},
   "outputs": [
    {
     "data": {
      "image/png": "[encoded data removed]",
      "text/plain": [
       "<Figure size 432x288 with 1 Axes>"
      ]
     },
     "metadata": {
      "needs_background": "light"
     },
     "output_type": "display_data"
    }
   ],
   "source": [
    "most_publisher.plot(kind = \"bar\")\n",
    "plt.xticks(rotation = 45)\n",
    "plt.show()"
   ]
  },
  {
   "cell_type": "markdown",
   "metadata": {},
   "source": [
    "### 7. Sales by Developer"
   ]
  },
  {
   "cell_type": "code",
   "execution_count": 157,
   "metadata": {},
   "outputs": [],
   "source": [
    "sale_developer = pd.pivot_table(data = pc,values = \"Sales\", index= \"Developer\", aggfunc= \"sum\")\n",
    "sale_developer = sale_developer.sort_values(by = \"Sales\", ascending = False).head(10)"
   ]
  },
  {
   "cell_type": "code",
   "execution_count": 160,
   "metadata": {},
   "outputs": [
    {
     "data": {
      "text/html": [
       "<div>\n",
       "<style scoped>\n",
       "    .dataframe tbody tr th:only-of-type {\n",
       "        vertical-align: middle;\n",
       "    }\n",
       "\n",
       "    .dataframe tbody tr th {\n",
       "        vertical-align: top;\n",
       "    }\n",
       "\n",
       "    .dataframe thead th {\n",
       "        text-align: right;\n",
       "    }\n",
       "</style>\n",
       "<table border=\"1\" class=\"dataframe\">\n",
       "  <thead>\n",
       "    <tr style=\"text-align: right;\">\n",
       "      <th></th>\n",
       "      <th>Developer</th>\n",
       "      <th>Sales</th>\n",
       "    </tr>\n",
       "  </thead>\n",
       "  <tbody>\n",
       "    <tr>\n",
       "      <th>0</th>\n",
       "      <td>Blizzard Entertainment</td>\n",
       "      <td>58.0</td>\n",
       "    </tr>\n",
       "    <tr>\n",
       "      <th>1</th>\n",
       "      <td>PUBG Studios</td>\n",
       "      <td>42.0</td>\n",
       "    </tr>\n",
       "    <tr>\n",
       "      <th>2</th>\n",
       "      <td>Mojang Studios</td>\n",
       "      <td>33.0</td>\n",
       "    </tr>\n",
       "    <tr>\n",
       "      <th>3</th>\n",
       "      <td>Maxis</td>\n",
       "      <td>33.0</td>\n",
       "    </tr>\n",
       "    <tr>\n",
       "      <th>4</th>\n",
       "      <td>Facepunch Studios</td>\n",
       "      <td>29.0</td>\n",
       "    </tr>\n",
       "    <tr>\n",
       "      <th>5</th>\n",
       "      <td>Valve</td>\n",
       "      <td>25.0</td>\n",
       "    </tr>\n",
       "    <tr>\n",
       "      <th>6</th>\n",
       "      <td>CD Projekt Red</td>\n",
       "      <td>20.5</td>\n",
       "    </tr>\n",
       "    <tr>\n",
       "      <th>7</th>\n",
       "      <td>Re-Logic</td>\n",
       "      <td>17.2</td>\n",
       "    </tr>\n",
       "    <tr>\n",
       "      <th>8</th>\n",
       "      <td>Firaxis Games</td>\n",
       "      <td>13.0</td>\n",
       "    </tr>\n",
       "    <tr>\n",
       "      <th>9</th>\n",
       "      <td>Frontier Developments</td>\n",
       "      <td>12.0</td>\n",
       "    </tr>\n",
       "  </tbody>\n",
       "</table>\n",
       "</div>"
      ],
      "text/plain": [
       "                Developer  Sales\n",
       "0  Blizzard Entertainment   58.0\n",
       "1            PUBG Studios   42.0\n",
       "2          Mojang Studios   33.0\n",
       "3                   Maxis   33.0\n",
       "4       Facepunch Studios   29.0\n",
       "5                   Valve   25.0\n",
       "6          CD Projekt Red   20.5\n",
       "7                Re-Logic   17.2\n",
       "8           Firaxis Games   13.0\n",
       "9   Frontier Developments   12.0"
      ]
     },
     "execution_count": 160,
     "metadata": {},
     "output_type": "execute_result"
    }
   ],
   "source": [
    "sale_developer = pd.DataFrame(data = sale_developer, columns = [\"Sales\"]).reset_index()\n",
    "sale_developer\n",
    "sale_developer"
   ]
  },
  {
   "cell_type": "code",
   "execution_count": 163,
   "metadata": {},
   "outputs": [
    {
     "data": {
      "text/plain": [
       "<AxesSubplot:xlabel='Developer'>"
      ]
     },
     "execution_count": 163,
     "metadata": {},
     "output_type": "execute_result"
    },
    {
     "data": {
      "image/png": "[encoded data removed]",
      "text/plain": [
       "<Figure size 432x288 with 1 Axes>"
      ]
     },
     "metadata": {
      "needs_background": "light"
     },
     "output_type": "display_data"
    }
   ],
   "source": [
    "sale_developer.plot(kind = \"bar\", x = \"Developer\")"
   ]
  }
 ],
 "metadata": {
  "interpreter": {
   "hash": "8860c5a2a70cad65c4a4f551bdb0e44edb7c75fe3e6ee64cbfce63c1c9f89b27"
  },
  "kernelspec": {
   "display_name": "Python 3.9.9 64-bit (windows store)",
   "language": "python",
   "name": "python3"
  },
  "language_info": {
   "codemirror_mode": {
    "name": "ipython",
    "version": 3
   },
   "file_extension": ".py",
   "mimetype": "text/x-python",
   "name": "python",
   "nbconvert_exporter": "python",
   "pygments_lexer": "ipython3",
   "version": "3.9.9"
  },
  "orig_nbformat": 4
 },
 "nbformat": 4,
 "nbformat_minor": 2
}
